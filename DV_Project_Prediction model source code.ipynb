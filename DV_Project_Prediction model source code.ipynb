{
 "cells": [
  {
   "cell_type": "markdown",
   "id": "5cb04aa3",
   "metadata": {},
   "source": [
    "## Prediction Model"
   ]
  },
  {
   "cell_type": "code",
   "execution_count": null,
   "id": "85d48fae",
   "metadata": {},
   "outputs": [],
   "source": [
    "import numpy as np\n",
    "import pandas as pd\n",
    "import seaborn as sns\n",
    "\n",
    "from sklearn.preprocessing import StandardScaler\n",
    "from sklearn.model_selection import train_test_split\n",
    "from sklearn.linear_model import LinearRegression\n",
    "from sklearn.tree import DecisionTreeRegressor\n",
    "from sklearn.ensemble import RandomForestRegressor\n",
    "from sklearn.ensemble import RandomForestClassifier\n",
    "from sklearn.metrics import mean_squared_error, r2_score\n",
    "import matplotlib.pyplot as plt\n",
    "%matplotlib inline\n",
    "from sklearn.metrics import accuracy_score, confusion_matrix\n",
    "\n",
    "import warnings\n",
    "warnings.filterwarnings(\"ignore\")"
   ]
  },
  {
   "cell_type": "code",
   "execution_count": 2,
   "id": "326fcfc3",
   "metadata": {},
   "outputs": [
    {
     "name": "stdout",
     "output_type": "stream",
     "text": [
      "   index    DateId         Open         High          Low        Close  \\\n",
      "0      1  20190101  3746.713387  3850.913765  3707.231303  3843.519967   \n",
      "1      2  20190102  3849.216409  3947.981273  3817.409496  3943.409337   \n",
      "2      3  20190103  3931.048638  3935.685131  3826.222871  3836.741319   \n",
      "3      4  20190104  3832.039968  3865.934532  3783.853665  3857.717619   \n",
      "4      5  20190105  3851.973965  3904.903096  3836.900126  3845.194460   \n",
      "\n",
      "         Volume     MarketCap  \n",
      "0  4.324201e+09  6.709863e+10  \n",
      "1  5.244857e+09  6.884986e+10  \n",
      "2  4.530215e+09  6.699492e+10  \n",
      "3  4.847965e+09  6.736833e+10  \n",
      "4  5.137610e+09  6.715757e+10  \n",
      "<class 'pandas.core.frame.DataFrame'>\n",
      "RangeIndex: 1796 entries, 0 to 1795\n",
      "Data columns (total 8 columns):\n",
      " #   Column     Non-Null Count  Dtype  \n",
      "---  ------     --------------  -----  \n",
      " 0   index      1796 non-null   int64  \n",
      " 1   DateId     1796 non-null   int64  \n",
      " 2   Open       1796 non-null   float64\n",
      " 3   High       1796 non-null   float64\n",
      " 4   Low        1796 non-null   float64\n",
      " 5   Close      1796 non-null   float64\n",
      " 6   Volume     1796 non-null   float64\n",
      " 7   MarketCap  1796 non-null   float64\n",
      "dtypes: float64(6), int64(2)\n",
      "memory usage: 112.4 KB\n",
      "None\n"
     ]
    }
   ],
   "source": [
    "df = pd.read_excel(r\"C:\\Users\\Thinkpad\\Documents\\GG\\DVProject\\DV Project\\Bitcoin_Cleaned.xlsx\")\n",
    "\n",
    "# Explore the dataset\n",
    "print(df.head())\n",
    "print(df.info())"
   ]
  },
  {
   "cell_type": "code",
   "execution_count": 3,
   "id": "7537b349",
   "metadata": {},
   "outputs": [],
   "source": [
    "# Split the data into dependent and independent variables\n",
    "from sklearn.preprocessing import LabelEncoder\n",
    "\n",
    "x = df.drop('Close', axis = 1)\n",
    "y = df.Close\n",
    "\n",
    "label_encoder = LabelEncoder()\n",
    "y = label_encoder.fit_transform(y)"
   ]
  },
  {
   "cell_type": "code",
   "execution_count": 4,
   "id": "88a6fbc0",
   "metadata": {},
   "outputs": [],
   "source": [
    "from sklearn.model_selection import train_test_split\n",
    "x_train, x_test, y_train, y_test = train_test_split(x,y, test_size=0.2, random_state=123)\n"
   ]
  },
  {
   "cell_type": "code",
   "execution_count": 5,
   "id": "14170c50",
   "metadata": {},
   "outputs": [
    {
     "data": {
      "text/plain": [
       "((1436, 7), (360, 7), (1436,), (360,))"
      ]
     },
     "execution_count": 5,
     "metadata": {},
     "output_type": "execute_result"
    }
   ],
   "source": [
    "#x_train.shape, y_train.shape, x_test.shape, y_test.shape\n",
    "x_train.shape, x_test.shape, y_train.shape, y_test.shape"
   ]
  },
  {
   "cell_type": "markdown",
   "id": "a8c42a60",
   "metadata": {},
   "source": [
    "## Linear Regression Model:"
   ]
  },
  {
   "cell_type": "code",
   "execution_count": 6,
   "id": "0594b794",
   "metadata": {},
   "outputs": [
    {
     "name": "stdout",
     "output_type": "stream",
     "text": [
      "rmse on train set is 92.54769734162778\n",
      "rmse on test set is 93.09064853518845\n"
     ]
    }
   ],
   "source": [
    "# Initialize the Linear Regression model\n",
    "from sklearn.datasets import make_regression\n",
    "Regression = LinearRegression()\n",
    "\n",
    "# Train the model\n",
    "model1 = Regression.fit(x_train,y_train)\n",
    "\n",
    "# Make predictions on the train set\n",
    "y_trainpred2 = model1.predict(x_train)\n",
    "\n",
    "# make prediction on test set\n",
    "y_pred2 = model1.predict(x_test)\n",
    "\n",
    "# Evaluate the model\n",
    "\n",
    "rmse1 = mean_squared_error(y_trainpred2, y_train, squared=False)\n",
    "rmse2 = mean_squared_error(y_pred2, y_test, squared=False)\n",
    "print('rmse on train set is',rmse1)\n",
    "print('rmse on test set is', rmse2)"
   ]
  },
  {
   "cell_type": "markdown",
   "id": "f200a51a",
   "metadata": {},
   "source": [
    "## Logistic Regression Model:"
   ]
  },
  {
   "cell_type": "code",
   "execution_count": 7,
   "id": "e91b4801",
   "metadata": {},
   "outputs": [
    {
     "name": "stdout",
     "output_type": "stream",
     "text": [
      "Accuracy of Logistic Regression model on the train set: 0.00\n",
      "Accuracy of the Logistic Regression model on the test set: 0.00\n"
     ]
    },
    {
     "data": {
      "text/plain": [
       "array([[0, 0, 0, ..., 0, 0, 0],\n",
       "       [0, 0, 0, ..., 0, 0, 0],\n",
       "       [0, 0, 0, ..., 0, 0, 0],\n",
       "       ...,\n",
       "       [0, 0, 0, ..., 0, 1, 0],\n",
       "       [0, 0, 0, ..., 0, 0, 0],\n",
       "       [0, 0, 0, ..., 0, 1, 0]], dtype=int64)"
      ]
     },
     "execution_count": 7,
     "metadata": {},
     "output_type": "execute_result"
    }
   ],
   "source": [
    "# Initialize the Logistic Regression model\n",
    "from sklearn.linear_model import LogisticRegression \n",
    "lr = LogisticRegression()\n",
    "\n",
    "# Train the model\n",
    "m = lr.fit(x_train, y_train)\n",
    "\n",
    "# Make predictions on the test set\n",
    "y_pred = m.predict(x_test)\n",
    "\n",
    "# Evaluate the model\n",
    "print('Accuracy of Logistic Regression model on the train set: {:.2f}'.format(m.score(x_train, y_train)))\n",
    "print('Accuracy of the Logistic Regression model on the test set: {:.2f}'.format(m.score(x_test, y_test)))\n",
    "\n",
    "from sklearn.metrics import confusion_matrix\n",
    "confusion_matrix(y_test, y_pred)"
   ]
  },
  {
   "cell_type": "markdown",
   "id": "1fbd6463",
   "metadata": {},
   "source": [
    "## Random Forest Regression Model:"
   ]
  },
  {
   "cell_type": "code",
   "execution_count": 8,
   "id": "82855723",
   "metadata": {},
   "outputs": [
    {
     "name": "stdout",
     "output_type": "stream",
     "text": [
      "Accuracy of Random Forest model on the train set: 0.19\n",
      "Accuracy of Random Forest model on the test set: 0.00\n"
     ]
    },
    {
     "data": {
      "text/plain": [
       "array([[0, 0, 0, ..., 0, 0, 0],\n",
       "       [1, 0, 0, ..., 0, 0, 0],\n",
       "       [0, 0, 0, ..., 0, 0, 0],\n",
       "       ...,\n",
       "       [0, 0, 0, ..., 0, 0, 0],\n",
       "       [0, 0, 0, ..., 0, 0, 0],\n",
       "       [0, 0, 0, ..., 0, 1, 0]], dtype=int64)"
      ]
     },
     "execution_count": 8,
     "metadata": {},
     "output_type": "execute_result"
    }
   ],
   "source": [
    "# Import the Model\n",
    "from sklearn.ensemble import RandomForestClassifier\n",
    "\n",
    "# Instantiate the model. \n",
    "rf = RandomForestClassifier(n_estimators=301, max_depth=3)\n",
    "\n",
    "# fit the model on the train set\n",
    "model2 = rf.fit(x_train, y_train)\n",
    "\n",
    "# Predict on x_test\n",
    "y_pred2 = model2.predict(x_test)\n",
    "\n",
    "# Evaluate the Model\n",
    "print('Accuracy of Random Forest model on the train set: {:.2f}'.format(model2.score(x_train, y_train)))\n",
    "print('Accuracy of Random Forest model on the test set: {:.2f}'.format(model2.score(x_test, y_test)))\n",
    "confusion_matrix(y_test, y_pred2)"
   ]
  },
  {
   "cell_type": "code",
   "execution_count": null,
   "id": "3f29e303",
   "metadata": {},
   "outputs": [],
   "source": []
  }
 ],
 "metadata": {
  "kernelspec": {
   "display_name": "Python 3 (ipykernel)",
   "language": "python",
   "name": "python3"
  },
  "language_info": {
   "codemirror_mode": {
    "name": "ipython",
    "version": 3
   },
   "file_extension": ".py",
   "mimetype": "text/x-python",
   "name": "python",
   "nbconvert_exporter": "python",
   "pygments_lexer": "ipython3",
   "version": "3.11.4"
  }
 },
 "nbformat": 4,
 "nbformat_minor": 5
}
