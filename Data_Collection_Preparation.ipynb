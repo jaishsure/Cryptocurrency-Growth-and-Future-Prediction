{
 "cells": [
  {
   "cell_type": "markdown",
   "id": "1cb58d83",
   "metadata": {},
   "source": [
    "## Web Scraping\n",
    "Collection historical data for Bitcoin, Ethereum, Tether, BNB, XRP from coinmarketcap "
   ]
  },
  {
   "cell_type": "code",
   "execution_count": 25,
   "id": "13847158",
   "metadata": {},
   "outputs": [
    {
     "name": "stdout",
     "output_type": "stream",
     "text": [
      "Data has been exported to bitcoin_original.xlsx\n"
     ]
    }
   ],
   "source": [
    "import requests\n",
    "import pandas as pd\n",
    "from pandas import json_normalize\n",
    "from IPython.display import FileLink\n",
    "import time  # Import the time module\n",
    "\n",
    "pd.set_option('display.float_format', '{:.2f}'.format)\n",
    "\n",
    "# Get the current epoch time\n",
    "current_epoch_time = int(time.time())\n",
    "\n",
    "# Define date range in chunks\n",
    "date_chunks = [\n",
    "    (1546214400, 1577836799),  # January 1, 2019, to December 31, 2019\n",
    "    (1577750400, 1609459199),  # January 1, 2020, to December 31, 2020\n",
    "    (1609372800, 1640995199),  # January 1, 2021, to December 31, 2021\n",
    "    (1640912400, 1672448400),  # January 1, 2022, to December 31, 2022\n",
    "    (1672448400, current_epoch_time),  # From January 1, 2023, to current date\n",
    "]\n",
    "\n",
    "# Initialize an empty DataFrame to store the results\n",
    "df_list = []\n",
    "\n",
    "# Make requests for each date range\n",
    "for start_time, end_time in date_chunks:\n",
    "    url = f'https://api.coinmarketcap.com/data-api/v3.1/cryptocurrency/historical?id=1&convertId=2781&timeStart={start_time}&timeEnd={end_time}&interval=1d'\n",
    "    response = requests.get(url)\n",
    "\n",
    "    if response.status_code == 200:\n",
    "        data = response.json()['data']['quotes']\n",
    "        df_chunk = json_normalize(data)\n",
    "        df_list.append(df_chunk)\n",
    "    else:\n",
    "        print(f'Error: {response.status_code}')\n",
    "        print(response.text)\n",
    "\n",
    "# Concatenate the DataFrames\n",
    "df = pd.concat(df_list, ignore_index=True)\n",
    "\n",
    "# json to Excel file\n",
    "excel_file_path = 'bitcoin_original.xlsx'\n",
    "df.to_excel(excel_file_path, index_label='index')\n",
    "\n",
    "print(f'Data has been exported to {excel_file_path}')\n",
    "FileLink(excel_file_path)\n",
    "\n",
    "\n",
    "#data cleaning\n",
    "drop_columns = ['timeOpen', 'timeClose', 'timeHigh', 'timeLow', 'quote.timestamp']\n",
    "df = df.drop(drop_columns, axis =1)\n",
    "\n",
    "# Save to another Excel file\n",
    "df.to_excel('Bitcoin_cleaned.xlsx', index=False)"
   ]
  },
  {
   "cell_type": "code",
   "execution_count": 22,
   "id": "a97f16f9",
   "metadata": {},
   "outputs": [
    {
     "name": "stdout",
     "output_type": "stream",
     "text": [
      "Data has been exported to Ethereum_original.xlsx\n"
     ]
    },
    {
     "data": {
      "text/html": [
       "<a href='Ethereum_original.xlsx' target='_blank'>Ethereum_original.xlsx</a><br>"
      ],
      "text/plain": [
       "C:\\Users\\mahes\\Downloads\\Ethereum_original.xlsx"
      ]
     },
     "execution_count": 22,
     "metadata": {},
     "output_type": "execute_result"
    }
   ],
   "source": [
    "import requests\n",
    "import pandas as pd\n",
    "from pandas import json_normalize\n",
    "from IPython.display import FileLink\n",
    "import time  # Import the time module\n",
    "\n",
    "pd.set_option('display.float_format', '{:.2f}'.format)\n",
    "\n",
    "# Get the current epoch time\n",
    "current_epoch_time = int(time.time())\n",
    "\n",
    "# Define date range in chunks\n",
    "date_chunks = [\n",
    "    (1546214400, 1577836799),  # January 1, 2019, to December 31, 2019\n",
    "    (1577750400, 1609459199),  # January 1, 2020, to December 31, 2020\n",
    "    (1609372800, 1640995199),  # January 1, 2021, to December 31, 2021\n",
    "    (1640912400, 1672448400),  # January 1, 2022, to December 31, 2022\n",
    "    (1672448400, current_epoch_time),  # From January 1, 2023, to current date\n",
    "]\n",
    "\n",
    "# Initialize an empty DataFrame to store the results\n",
    "df_list = []\n",
    "\n",
    "# Make requests for each date range\n",
    "for start_time, end_time in date_chunks:\n",
    "    url = f'https://api.coinmarketcap.com/data-api/v3.1/cryptocurrency/historical?id=1027&convertId=2781&timeStart={start_time}&timeEnd={end_time}&interval=1d'\n",
    "    response = requests.get(url)\n",
    "\n",
    "    if response.status_code == 200:\n",
    "        data = response.json()['data']['quotes']\n",
    "        df_chunk = json_normalize(data)\n",
    "        df_list.append(df_chunk)\n",
    "    else:\n",
    "        print(f'Error: {response.status_code}')\n",
    "        print(response.text)\n",
    "\n",
    "# Concatenate the DataFrames\n",
    "df = pd.concat(df_list, ignore_index=True)\n",
    "\n",
    "# json to Excel file\n",
    "excel_file_path = 'Ethereum_original.xlsx'\n",
    "df.to_excel(excel_file_path, index_label='index')\n",
    "\n",
    "print(f'Data has been exported to {excel_file_path}')\n",
    "FileLink(excel_file_path)\n",
    "\n",
    "#data cleaning\n",
    "drop_columns = ['timeOpen', 'timeClose', 'timeHigh', 'timeLow', 'quote.timestamp']\n",
    "df = df.drop(drop_columns, axis =1)\n",
    "\n",
    "# Save to another Excel file\n",
    "df.to_excel('Ethereum_cleaned.xlsx', index=False)"
   ]
  },
  {
   "cell_type": "code",
   "execution_count": 23,
   "id": "f58f2b67",
   "metadata": {},
   "outputs": [
    {
     "name": "stdout",
     "output_type": "stream",
     "text": [
      "Data has been exported to Tether_original.xlsx\n"
     ]
    },
    {
     "data": {
      "text/html": [
       "<a href='Tether_original.xlsx' target='_blank'>Tether_original.xlsx</a><br>"
      ],
      "text/plain": [
       "C:\\Users\\mahes\\Downloads\\Tether_original.xlsx"
      ]
     },
     "execution_count": 23,
     "metadata": {},
     "output_type": "execute_result"
    }
   ],
   "source": [
    "import requests\n",
    "import pandas as pd\n",
    "from pandas import json_normalize\n",
    "from IPython.display import FileLink\n",
    "import time  # Import the time module\n",
    "\n",
    "pd.set_option('display.float_format', '{:.2f}'.format)\n",
    "\n",
    "# Get the current epoch time\n",
    "current_epoch_time = int(time.time())\n",
    "\n",
    "# Define date range in chunks\n",
    "date_chunks = [\n",
    "    (1546214400, 1577836799),  # January 1, 2019, to December 31, 2019\n",
    "    (1577750400, 1609459199),  # January 1, 2020, to December 31, 2020\n",
    "    (1609372800, 1640995199),  # January 1, 2021, to December 31, 2021\n",
    "    (1640912400, 1672448400),  # January 1, 2022, to December 31, 2022\n",
    "    (1672448400, current_epoch_time),  # From January 1, 2023, to current date\n",
    "]\n",
    "\n",
    "# Initialize an empty DataFrame to store the results\n",
    "df_list = []\n",
    "\n",
    "# Make requests for each date range\n",
    "for start_time, end_time in date_chunks:\n",
    "    url = f'https://api.coinmarketcap.com/data-api/v3.1/cryptocurrency/historical?id=825&convertId=2781&timeStart={start_time}&timeEnd={end_time}&interval=1d'\n",
    "    response = requests.get(url)\n",
    "\n",
    "    if response.status_code == 200:\n",
    "        data = response.json()['data']['quotes']\n",
    "        df_chunk = json_normalize(data)\n",
    "        df_list.append(df_chunk)\n",
    "    else:\n",
    "        print(f'Error: {response.status_code}')\n",
    "        print(response.text)\n",
    "\n",
    "# Concatenate the DataFrames\n",
    "df = pd.concat(df_list, ignore_index=True)\n",
    "\n",
    "# json to Excel file\n",
    "excel_file_path = 'Tether_original.xlsx'\n",
    "df.to_excel(excel_file_path, index_label='index')\n",
    "\n",
    "print(f'Data has been exported to {excel_file_path}')\n",
    "FileLink(excel_file_path)\n",
    "\n",
    "#data cleaning\n",
    "drop_columns = ['timeOpen', 'timeClose', 'timeHigh', 'timeLow', 'quote.timestamp']\n",
    "df = df.drop(drop_columns, axis =1)\n",
    "\n",
    "# Save to another Excel file\n",
    "df.to_excel('Tether_cleaned.xlsx', index=False)"
   ]
  },
  {
   "cell_type": "code",
   "execution_count": 24,
   "id": "b32e386f",
   "metadata": {},
   "outputs": [
    {
     "name": "stdout",
     "output_type": "stream",
     "text": [
      "Data has been exported to BNB_original.xlsx\n"
     ]
    },
    {
     "data": {
      "text/html": [
       "<a href='BNB_original.xlsx' target='_blank'>BNB_original.xlsx</a><br>"
      ],
      "text/plain": [
       "C:\\Users\\mahes\\Downloads\\BNB_original.xlsx"
      ]
     },
     "execution_count": 24,
     "metadata": {},
     "output_type": "execute_result"
    }
   ],
   "source": [
    "import requests\n",
    "import pandas as pd\n",
    "from pandas import json_normalize\n",
    "from IPython.display import FileLink\n",
    "import time  # Import the time module\n",
    "\n",
    "pd.set_option('display.float_format', '{:.2f}'.format)\n",
    "\n",
    "# Get the current epoch time\n",
    "current_epoch_time = int(time.time())\n",
    "\n",
    "# Define date range in chunks\n",
    "date_chunks = [\n",
    "    (1546214400, 1577836799),  # January 1, 2019, to December 31, 2019\n",
    "    (1577750400, 1609459199),  # January 1, 2020, to December 31, 2020\n",
    "    (1609372800, 1640995199),  # January 1, 2021, to December 31, 2021\n",
    "    (1640912400, 1672448400),  # January 1, 2022, to December 31, 2022\n",
    "    (1672448400, current_epoch_time),  # From January 1, 2023, to current date\n",
    "]\n",
    "\n",
    "# Initialize an empty DataFrame to store the results\n",
    "df_list = []\n",
    "\n",
    "# Make requests for each date range\n",
    "for start_time, end_time in date_chunks:\n",
    "    url = f'https://api.coinmarketcap.com/data-api/v3.1/cryptocurrency/historical?id=1839&convertId=2781&timeStart={start_time}&timeEnd={end_time}&interval=1d'\n",
    "    response = requests.get(url)\n",
    "\n",
    "    if response.status_code == 200:\n",
    "        data = response.json()['data']['quotes']\n",
    "        df_chunk = json_normalize(data)\n",
    "        df_list.append(df_chunk)\n",
    "    else:\n",
    "        print(f'Error: {response.status_code}')\n",
    "        print(response.text)\n",
    "\n",
    "# Concatenate the DataFrames\n",
    "df = pd.concat(df_list, ignore_index=True)\n",
    "\n",
    "# json to Excel file\n",
    "excel_file_path = 'BNB_original.xlsx'\n",
    "df.to_excel(excel_file_path, index_label='index')\n",
    "\n",
    "print(f'Data has been exported to {excel_file_path}')\n",
    "FileLink(excel_file_path)\n",
    "\n",
    "#data cleaning\n",
    "drop_columns = ['timeOpen', 'timeClose', 'timeHigh', 'timeLow', 'quote.timestamp']\n",
    "df = df.drop(drop_columns, axis =1)\n",
    "\n",
    "# Save to another Excel file\n",
    "df.to_excel('BNB_cleaned.xlsx', index=False)"
   ]
  },
  {
   "cell_type": "code",
   "execution_count": 25,
   "id": "32fa7dfd",
   "metadata": {},
   "outputs": [
    {
     "name": "stdout",
     "output_type": "stream",
     "text": [
      "Data has been exported to XRP_original.xlsx\n"
     ]
    },
    {
     "data": {
      "text/html": [
       "<a href='XRP_original.xlsx' target='_blank'>XRP_original.xlsx</a><br>"
      ],
      "text/plain": [
       "C:\\Users\\mahes\\Downloads\\XRP_original.xlsx"
      ]
     },
     "execution_count": 25,
     "metadata": {},
     "output_type": "execute_result"
    }
   ],
   "source": [
    "import requests\n",
    "import pandas as pd\n",
    "from pandas import json_normalize\n",
    "from IPython.display import FileLink\n",
    "import time  # Import the time module\n",
    "\n",
    "pd.set_option('display.float_format', '{:.2f}'.format)\n",
    "\n",
    "# Get the current epoch time\n",
    "current_epoch_time = int(time.time())\n",
    "\n",
    "# Define date range in chunks\n",
    "date_chunks = [\n",
    "    (1546214400, 1577836799),  # January 1, 2019, to December 31, 2019\n",
    "    (1577750400, 1609459199),  # January 1, 2020, to December 31, 2020\n",
    "    (1609372800, 1640995199),  # January 1, 2021, to December 31, 2021\n",
    "    (1640912400, 1672448400),  # January 1, 2022, to December 31, 2022\n",
    "    (1672448400, current_epoch_time),  # From January 1, 2023, to current date\n",
    "]\n",
    "\n",
    "# Initialize an empty DataFrame to store the results\n",
    "df_list = []\n",
    "\n",
    "# Make requests for each date range\n",
    "for start_time, end_time in date_chunks:\n",
    "    url = f'https://api.coinmarketcap.com/data-api/v3.1/cryptocurrency/historical?id=52&convertId=2781&timeStart={start_time}&timeEnd={end_time}&interval=1d'\n",
    "    response = requests.get(url)\n",
    "\n",
    "    if response.status_code == 200:\n",
    "        data = response.json()['data']['quotes']\n",
    "        df_chunk = json_normalize(data)\n",
    "        df_list.append(df_chunk)\n",
    "    else:\n",
    "        print(f'Error: {response.status_code}')\n",
    "        print(response.text)\n",
    "\n",
    "# Concatenate the DataFrames\n",
    "df = pd.concat(df_list, ignore_index=True)\n",
    "\n",
    "# json to Excel file\n",
    "excel_file_path = 'XRP_original.xlsx'\n",
    "df.to_excel(excel_file_path, index_label='index')\n",
    "\n",
    "print(f'Data has been exported to {excel_file_path}')\n",
    "FileLink(excel_file_path)\n",
    "\n",
    "#data cleaning\n",
    "drop_columns = ['timeOpen', 'timeClose', 'timeHigh', 'timeLow', 'quote.timestamp']\n",
    "df = df.drop(drop_columns, axis =1)\n",
    "\n",
    "# Save to another Excel file\n",
    "df.to_excel('XRP_cleaned.xlsx', index=False)"
   ]
  },
  {
   "cell_type": "markdown",
   "id": "763db2a8",
   "metadata": {},
   "source": [
    "Creating a date table with date_id"
   ]
  },
  {
   "cell_type": "code",
   "execution_count": 8,
   "id": "70531f4c",
   "metadata": {},
   "outputs": [
    {
     "name": "stdout",
     "output_type": "stream",
     "text": [
      "Data has been exported\n",
      "    date_Id        date start_time                end_time\n",
      "0  20190101  2019-01-01 2019-01-01 2019-01-01 23:59:59.999\n",
      "1  20190102  2019-01-02 2019-01-02 2019-01-02 23:59:59.999\n",
      "2  20190103  2019-01-03 2019-01-03 2019-01-03 23:59:59.999\n",
      "3  20190104  2019-01-04 2019-01-04 2019-01-04 23:59:59.999\n",
      "4  20190105  2019-01-05 2019-01-05 2019-01-05 23:59:59.999\n"
     ]
    }
   ],
   "source": [
    "import pandas as pd\n",
    "\n",
    "# Read the Excel file\n",
    "df = pd.read_excel(r\"C:\\Users\\mahes\\Downloads\\bitcoin_original.xlsx\")\n",
    "df['date'] = pd.to_datetime(df['timeOpen'], format='%Y-%m-%dT%H:%M:%S.%fZ') \n",
    "\n",
    "# Create a new DataFrame with the formatted date and primary key\n",
    "date_table = pd.DataFrame({\n",
    "    'date': df['date'],\n",
    "    'formatted_date': df['date'].dt.strftime('%Y-%m-%d'),\n",
    "    'primary_key': df['date'].dt.strftime('%Y%m%d').astype(int)\n",
    "})\n",
    "\n",
    "# Convert 'date' column to pandas datetime format\n",
    "df['start_time'] = pd.to_datetime(df['timeOpen'], format='%Y-%m-%dT%H:%M:%S.%fZ')\n",
    "df['end_time'] = pd.to_datetime(df['timeClose'], format='%Y-%m-%dT%H:%M:%S.%fZ')\n",
    "\n",
    "# Create a new DataFrame with the formatted date and primary key\n",
    "date_table = pd.DataFrame({\n",
    "    'date_Id': df['start_time'].dt.strftime('%Y%m%d').astype(int),\n",
    "    'date': df['start_time'].dt.strftime('%Y-%m-%d'),\n",
    "    'start_time': df['start_time'],\n",
    "    'end_time': df['end_time']    \n",
    "})\n",
    "\n",
    "# Save the new DataFrame to a new Excel file\n",
    "date_table.to_excel(r\"C:\\Users\\mahes\\Downloads\\date_table.xlsx\", index=False)\n",
    "\n",
    "print(f'Data has been exported')\n",
    "print(date_table.head())"
   ]
  }
 ],
 "metadata": {
  "kernelspec": {
   "display_name": "Python 3 (ipykernel)",
   "language": "python",
   "name": "python3"
  },
  "language_info": {
   "codemirror_mode": {
    "name": "ipython",
    "version": 3
   },
   "file_extension": ".py",
   "mimetype": "text/x-python",
   "name": "python",
   "nbconvert_exporter": "python",
   "pygments_lexer": "ipython3",
   "version": "3.11.4"
  }
 },
 "nbformat": 4,
 "nbformat_minor": 5
}
